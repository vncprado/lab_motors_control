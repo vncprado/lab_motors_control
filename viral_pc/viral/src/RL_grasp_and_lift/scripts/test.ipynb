{
 "cells": [
  {
   "cell_type": "code",
   "execution_count": null,
   "metadata": {},
   "outputs": [],
   "source": [
    "import pandas as pd\n",
    "import numpy as np\n",
    "from imitation.data.types import TrajectoryWithRew\n",
    "\n",
    "traj_index = [1,2,3]\n",
    "dfs_all = [] \n",
    "expert_trajectories = []\n",
    "for i in traj_index:\n",
    "    path = f'/home/bioinlab/Documents/real-OMX-bioin-tacto-grasp-and-lift/bags/Object1/csv/try{i}_final.csv'\n",
    "    df1 = pd.read_csv(path)\n",
    "    df1['reward'] = pd.Series(dtype='double')\n",
    "    df1['reward_sum'] = pd.Series(dtype='double')\n",
    "    df1['action'] = pd.Series(dtype='int')\n",
    "    df1['episode_start'] = 0\n",
    "    df1.loc[1,'episode_start'] =  1\n",
    "    reward_sum = 0\n",
    "    df1['baro1'] =df1['baro1']/500\n",
    "    df1['baro2'] =df1['baro2']/500\n",
    "    df1 = df1[df1['baro1'] <= 1]\n",
    "    df1 = df1[df1['baro2'] <= 1]\n",
    "    df1 = df1.reset_index(drop=True)\n",
    "    actions = ['w', 's','a','d','z','x','f','g','o','k']\n",
    "    for row in range(df1.shape[0]):\n",
    "        reward = 0\n",
    "        #print(df1['baro1'][row])\n",
    "        if(df1['baro1'][row] < 0.1 or df1['baro2'][row] < 0.1):\n",
    "            reward = reward - 0.5\n",
    "        elif (df1['baro1'][row] > 0.9 or df1['baro2'][row] > 0.9):\n",
    "            reward = reward - 0.5\n",
    "        if(df1['end-effector_position_z'][row] > 0.11):\n",
    "            reward = reward + 0.8\n",
    "        reward = df1['end-effector_position_z'][row] * 3 - 0.1\n",
    "        reward_sum = reward_sum + reward\n",
    "        df1.loc[row, 'reward'] = reward\n",
    "        df1.loc[row,'reward_sum'] = reward_sum\n",
    "        df1.loc[row,'action'] = actions.index(df1['instruction'][row])   \n",
    "    dfs_all.append(df1.copy(deep=True))\n",
    "\n",
    "for i in dfs_all:\n",
    "    df_all = i\n",
    "    action = df_all['action'].to_numpy()\n",
    "    #action = np.delete(action, (0), axis=0)\n",
    "\n",
    "    print(len(action))\n",
    "    observation = df_all[[\"baro1\", \"baro2\",\n",
    "                        \"imu_left_orientation_x\",\"imu_left_orientationdef all_of_type(key, desired_type):\n",
    "    return all(\n",
    "        isinstance(getattr(traj, key), desired_type) for traj in trajectories\n",
    "    )\n",
    "\n",
    "assert all_of_type(\"obs\", types.DictObs) or all_of_type(\"obs\", np.ndarray)\n",
    "assert all_of_type(\"acts\", np.ndarray)_y\",\"imu_left_orientation_z\",\"imu_left_orientation_w\",\n",
    "                        \"imu_right_orientation_x\", \"imu_right_orientation_y\", \"imu_right_orientation_z\", \"imu_right_orientation_w\",\n",
    "    \"end-effector_position_x\", \"end-effector_position_y\", \"end-effector_position_z\",\n",
    "    \"end-effector_orientation_x\", \"end-effector_orientation_y\", \"end-effector_orientation_z\", \"end-effector_orientation_w\"]].to_numpy()\n",
    "    observations = []\n",
    "    for i in observation:\n",
    "        \n",
    "      observations = observations.append({'pressure_left': i['baro1'],\n",
    "                                        'pressure_right':i['baro2'],\n",
    "                                        'orientation_left':i['imu_left_orientation_x','imu_left_orientation_y','imu_left_orientation_z','imu_left_orientation_w'],\n",
    "                                        'orientation_right':i['imu_right_orientation_x', 'imu_right_orientation_y', 'imu_right_orientation_z', 'imu_right_orientation_w'],\n",
    "                                        'ee_position':i['end-effector_position_x', 'end-effector_position_y', 'end-effector_position_z'],\n",
    "                                        'ee_orientation':i['end-effector_orientation_x', 'end-effector_orientation_y', 'end-effector_orientation_z', 'end-effector_orientation_w']}) \n",
    "    #     baro1.append(observation[i][0])\n",
    "    # baro1 = df_all[\"baro1\"].to_numpy()\n",
    "    # baro2 = df_all[\"baro2\"].to_numpy()\n",
    "    # imu_left = df_all[ [\"imu_left_orientation_x\",\"imu_left_orientation_y\",\"imu_left_orientation_z\",\"imu_left_orientation_w\"]].to_numpy()\n",
    "    # imu_right = df_all[[\"imu_right_orientation_x\", \"imu_right_orientation_y\", \"imu_right_orientation_z\", \"imu_right_orientation_w\"]].to_numpy()\n",
    "    # EE_pose = df_all[[\"end-effector_position_x\", \"end-effector_position_y\", \"end-effector_position_z\"]].to_numpy()\n",
    "    # EE_orientation = df_all[[\"end-effector_orientation_x\", \"end-effector_orientation_y\", \"end-effector_orientation_z\", \"end-effector_orientation_w\"]].to_numpy()\n",
    "    reward = df_all['reward'].to_numpy()\n",
    "    print(reward.shape)\n",
    "\n",
    "    episode_start = df_all['episode_start'].to_numpy()\n",
    "    cumulative_reward = df_all['reward_sum'].to_numpy()\n",
    "    terminal = np.zeros_like(action)\n",
    "\n",
    "    action = action[:-1]\n",
    "    reward = reward[:-1]\n",
    "    terminal[-1] =1\n",
    "    traj = TrajectoryWithRew(\n",
    "      obs=observations,\n",
    "      acts=action,\n",
    "      rews=reward,\n",
    "      terminal={'dones': terminal},\n",
    "      infos = None)\n",
    "    expert_trajectories.append(traj)\n",
    "    \n",
    "from imitation.data import rollout\n",
    "\n",
    "transitions = rollout.flatten_trajectories(expert_trajectories)\n",
    "    # Ensure the lengths match\n",
    "# min_length = min(len(action), len(reward))\n",
    "\n",
    "# # Adjust lengths\n",
    "# observation = observation[:min_length ]  # Add +1 to match the required length\n",
    "# action = action[:min_length-1]\n",
    "# reward = reward[:min_length-1]\n",
    "\n",
    "# Create an array with the initial state for observation\n",
    "# initial_state = np.zeros_like(observation[:1])  # Assuming the initial state is a zero vector\n",
    "# observation = np.concatenate([initial_state, observation])\n",
    "\n",
    "# Initialize TrajectoryWit\n",
    "\n",
    "\n",
    "# Assuming expert_dataset is your numpy array containing expert trajectories\n",
    "\n",
    "# Initializing an empty list to hold the data\n",
    "\n",
    "# observation = df_all[[\"baro1\", \"baro2\",\n",
    "#                        \"imu_left_orientation_x\",\"imu_left_orientation_y\",\"imu_left_orientation_z\",\"imu_left_orientation_w\",\n",
    "#                      \"imu_right_orientation_x\", \"imu_right_orientation_y\", \"imu_right_orientation_z\", \"imu_right_orientation_w\",\n",
    "# \"end-effector_position_x\", \"end-effector_position_y\", \"end-effector_position_z\",\n",
    "# \"end-effector_orientation_x\", \"end-effector_orientation_y\", \"end-effector_orientation_z\", \"end-effector_orientation_w\"]].to_numpy()"
   ]
  },
  {
   "cell_type": "code",
   "execution_count": 13,
   "metadata": {},
   "outputs": [
    {
     "name": "stdout",
     "output_type": "stream",
     "text": [
      "38\n",
      "(38,)\n",
      "31\n",
      "(31,)\n",
      "29\n",
      "(29,)\n"
     ]
    }
   ],
   "source": [
    "import pandas as pd\n",
    "import numpy as np\n",
    "from imitation.data.types import TrajectoryWithRew\n",
    "from imitation.data.types import DictObs\n",
    "traj_index = [1,2,3]\n",
    "dfs_all = [] \n",
    "expert_trajectories = []\n",
    "for i in traj_index:\n",
    "    path = f'/home/bioinlab/Documents/real-OMX-bioin-tacto-grasp-and-lift/bags/Object1/csv/try{i}_final.csv'\n",
    "    df1 = pd.read_csv(path)\n",
    "    df1['reward'] = pd.Series(dtype='double')\n",
    "    df1['reward_sum'] = pd.Series(dtype='double')\n",
    "    df1['action'] = pd.Series(dtype='int')\n",
    "    df1['episode_start'] = 0\n",
    "    df1.loc[1,'episode_start'] =  1\n",
    "    reward_sum = 0\n",
    "    df1['baro1'] =df1['baro1']/500\n",
    "    df1['baro2'] =df1['baro2']/500\n",
    "    df1 = df1[df1['baro1'] <= 1]\n",
    "    df1 = df1[df1['baro2'] <= 1]\n",
    "    df1 = df1.reset_index(drop=True)\n",
    "    actions = ['w', 's','a','d','z','x','f','g','o','k']\n",
    "    for row in range(df1.shape[0]):\n",
    "        reward = 0\n",
    "        #print(df1['baro1'][row])\n",
    "        if(df1['baro1'][row] < 0.1 or df1['baro2'][row] < 0.1):\n",
    "            reward = reward - 0.5\n",
    "        elif (df1['baro1'][row] > 0.9 or df1['baro2'][row] > 0.9):\n",
    "            reward = reward - 0.5\n",
    "        if(df1['end-effector_position_z'][row] > 0.11):\n",
    "            reward = reward + 0.8\n",
    "        reward = df1['end-effector_position_z'][row] * 3 - 0.1\n",
    "        reward_sum = reward_sum + reward\n",
    "        df1.loc[row, 'reward'] = reward\n",
    "        df1.loc[row,'reward_sum'] = reward_sum\n",
    "        df1.loc[row,'action'] = actions.index(df1['instruction'][row])   \n",
    "    dfs_all.append(df1.copy(deep=True))\n",
    "\n",
    "for i in dfs_all:\n",
    "    df_all = i\n",
    "    action = df_all['action'].to_numpy()\n",
    "    #action = np.delete(action, (0), axis=0)\n",
    "\n",
    "    print(len(action))\n",
    "    observation = df_all[[\"baro1\", \"baro2\",\n",
    "                        \"imu_left_orientation_x\",\"imu_left_orientation_y\",\"imu_left_orientation_z\",\"imu_left_orientation_w\",\n",
    "                        \"imu_right_orientation_x\", \"imu_right_orientation_y\", \"imu_right_orientation_z\", \"imu_right_orientation_w\",\n",
    "    \"end-effector_position_x\", \"end-effector_position_y\", \"end-effector_position_z\",\n",
    "    \"end-effector_orientation_x\", \"end-effector_orientation_y\", \"end-effector_orientation_z\", \"end-effector_orientation_w\"]].to_numpy()\n",
    "# Extract each obs component into its own array\n",
    "    baro1 = df_all[\"baro1\"].to_numpy()[:, None]\n",
    "    baro2 = df_all[\"baro2\"].to_numpy()[:, None]\n",
    "\n",
    "    imu_left = df_all[[\"imu_left_orientation_x\", \"imu_left_orientation_y\", \"imu_left_orientation_z\", \"imu_left_orientation_w\"]].to_numpy()\n",
    "    imu_right = df_all[[\"imu_right_orientation_x\", \"imu_right_orientation_y\", \"imu_right_orientation_z\", \"imu_right_orientation_w\"]].to_numpy()\n",
    "\n",
    "    EE_pos = df_all[[\"end-effector_position_x\", \"end-effector_position_y\", \"end-effector_position_z\"]].to_numpy()\n",
    "    EE_orient = df_all[[\"end-effector_orientation_x\", \"end-effector_orientation_y\", \"end-effector_orientation_z\", \"end-effector_orientation_w\"]].to_numpy()\n",
    "\n",
    "    # Build dict obs \n",
    "    obs_dict = {\n",
    "    'pressure_left': baro1,\n",
    "    'pressure_right': baro2,\n",
    "    'orientation_left': imu_left,\n",
    "    'orientation_right': imu_right,    \n",
    "    'ee_position': EE_pos,\n",
    "    'ee_orientation': EE_orient\n",
    "    }\n",
    "\n",
    "    # Create DictObs\n",
    "    observations = DictObs(obs_dict) \n",
    "\n",
    "        # observations = DictObs({})\n",
    "    # for i in observation:\n",
    "    #     obs_dict = {\n",
    "    #         'pressure_left': i[0],\n",
    "    #         'pressure_right': i[1],\n",
    "    #         'orientation_left': i[2:6],\n",
    "    #         'orientation_right': i[6:10],\n",
    "    #         'ee_position': i[10:13],\n",
    "    #         'ee_orientation': i[13:17]\n",
    "    #     }\n",
    "    #     observations.concatenate(DictObs(obs_dict))\n",
    "\n",
    "    # observations = DictObs(observations)\n",
    "#     baro1.append(observation[i][0])\n",
    "    # baro1 = df_all[\"baro1\"].to_numpy()\n",
    "    # baro2 = df_all[\"baro2\"].to_numpy()\n",
    "    # imu_left = df_all[ [\"imu_left_orientation_x\",\"imu_left_orientation_y\",\"imu_left_orientation_z\",\"imu_left_orientation_w\"]].to_numpy()\n",
    "    # imu_right = df_all[[\"imu_right_orientation_x\", \"imu_right_orientation_y\", \"imu_right_orientation_z\", \"imu_right_orientation_w\"]].to_numpy()\n",
    "    # EE_pose = df_all[[\"end-effector_position_x\", \"end-effector_position_y\", \"end-effector_position_z\"]].to_numpy()\n",
    "    # EE_orientation = df_all[[\"end-effector_orientation_x\", \"end-effector_orientation_y\", \"end-effector_orientation_z\", \"end-effector_orientation_w\"]].to_numpy()\n",
    "    reward = df_all['reward'].to_numpy()\n",
    "    print(reward.shape)\n",
    "\n",
    "    episode_start = df_all['episode_start'].to_numpy()\n",
    "    cumulative_reward = df_all['reward_sum'].to_numpy()\n",
    "    terminal = np.zeros_like(action)\n",
    "\n",
    "    action = action[:-1]\n",
    "    reward = reward[:-1]\n",
    "    traj = TrajectoryWithRew(\n",
    "      obs=observations,\n",
    "      acts=action,\n",
    "      rews=reward,\n",
    "      terminal= True,\n",
    "      infos = None)\n",
    "    expert_trajectories.append(traj)\n",
    "    \n",
    "from imitation.data import rollout\n",
    "\n",
    "transitions = rollout.flatten_trajectories(expert_trajectories)\n",
    "\n",
    "    # Ensure the lengths match\n",
    "# min_length = min(len(action), len(reward))\n",
    "\n",
    "# # Adjust lengths\n",
    "# observation = observation[:min_length ]  # Add +1 to match the required length\n",
    "# action = action[:min_length-1]\n",
    "# reward = reward[:min_length-1]\n",
    "\n",
    "# Create an array with the initial state for observation\n",
    "# initial_state = np.zeros_like(observation[:1])  # Assuming the initial state is a zero vector\n",
    "# observation = np.concatenate([initial_state, observation])\n",
    "\n",
    "# Initialize TrajectoryWit\n",
    "\n",
    "\n",
    "# Assuming expert_dataset is your numpy array containing expert trajectories\n",
    "\n",
    "# Initializing an empty list to hold the data\n",
    "\n",
    "# observation = df_all[[\"baro1\", \"baro2\",\n",
    "#                        \"imu_left_orientation_x\",\"imu_left_orientation_y\",\"imu_left_orientation_z\",\"imu_left_orientation_w\",\n",
    "#                      \"imu_right_orientation_x\", \"imu_right_orientation_y\", \"imu_right_orientation_z\", \"imu_right_orientation_w\",\n",
    "# \"end-effector_position_x\", \"end-effector_position_y\", \"end-effector_position_z\",\n",
    "# \"end-effector_orientation_x\", \"end-effector_orientation_y\", \"end-effector_orientation_z\", \"end-effector_orientation_w\"]].to_numpy()"
   ]
  },
  {
   "cell_type": "code",
   "execution_count": 14,
   "metadata": {},
   "outputs": [
    {
     "data": {
      "text/plain": [
       "Dict('ee_orientation': Box(-1.0, 1.0, (4,), float32), 'ee_position': Box(-1.0, 1.0, (3,), float32), 'orientation_left': Box(-1.0, 1.0, (4,), float32), 'orientation_right': Box(-1.0, 1.0, (4,), float32), 'pressure_left': Box(0.0, 1.5, (1,), float32), 'pressure_right': Box(0.0, 1.5, (1,), float32))"
      ]
     },
     "execution_count": 14,
     "metadata": {},
     "output_type": "execute_result"
    }
   ],
   "source": [
    "from imitation.algorithms import bc\n",
    "import sys\n",
    "sys.path.append('/home/bioinlab/Documents/real-OMX-bioin-tacto-grasp-and-lift/src/RL_grasp_and_lift/scripts')\n",
    "from robotEnv import RobotEnv\n",
    "rng = np.random.default_rng()\n",
    "env = RobotEnv()\n",
    "env.observation_space"
   ]
  },
  {
   "cell_type": "code",
   "execution_count": 21,
   "metadata": {},
   "outputs": [
    {
     "name": "stderr",
     "output_type": "stream",
     "text": [
      "0batch [00:00, ?batch/s]"
     ]
    },
    {
     "name": "stdout",
     "output_type": "stream",
     "text": [
      "--------------------------------\n",
      "| batch_size        | 32       |\n",
      "| bc/               |          |\n",
      "|    batch          | 0        |\n",
      "|    ent_loss       | -0.0023  |\n",
      "|    entropy        | 2.3      |\n",
      "|    epoch          | 0        |\n",
      "|    l2_loss        | 0        |\n",
      "|    l2_norm        | 98.5     |\n",
      "|    loss           | 2.3      |\n",
      "|    neglogp        | 2.3      |\n",
      "|    prob_true_act  | 0.0998   |\n",
      "|    samples_so_far | 32       |\n",
      "--------------------------------\n"
     ]
    },
    {
     "name": "stderr",
     "output_type": "stream",
     "text": [
      "471batch [00:02, 348.81batch/s]"
     ]
    },
    {
     "name": "stdout",
     "output_type": "stream",
     "text": [
      "--------------------------------\n",
      "| batch_size        | 32       |\n",
      "| bc/               |          |\n",
      "|    batch          | 500      |\n",
      "|    ent_loss       | -0.00108 |\n",
      "|    entropy        | 1.08     |\n",
      "|    epoch          | 250      |\n",
      "|    l2_loss        | 0        |\n",
      "|    l2_norm        | 137      |\n",
      "|    loss           | 1.13     |\n",
      "|    neglogp        | 1.13     |\n",
      "|    prob_true_act  | 0.501    |\n",
      "|    samples_so_far | 16032    |\n",
      "--------------------------------\n"
     ]
    },
    {
     "name": "stderr",
     "output_type": "stream",
     "text": [
      "991batch [00:03, 395.53batch/s]"
     ]
    },
    {
     "name": "stdout",
     "output_type": "stream",
     "text": [
      "---------------------------------\n",
      "| batch_size        | 32        |\n",
      "| bc/               |           |\n",
      "|    batch          | 1000      |\n",
      "|    ent_loss       | -0.000971 |\n",
      "|    entropy        | 0.971     |\n",
      "|    epoch          | 500       |\n",
      "|    l2_loss        | 0         |\n",
      "|    l2_norm        | 185       |\n",
      "|    loss           | 0.907     |\n",
      "|    neglogp        | 0.908     |\n",
      "|    prob_true_act  | 0.548     |\n",
      "|    samples_so_far | 32032     |\n",
      "---------------------------------\n"
     ]
    },
    {
     "name": "stderr",
     "output_type": "stream",
     "text": [
      "1473batch [00:04, 399.75batch/s]"
     ]
    },
    {
     "name": "stdout",
     "output_type": "stream",
     "text": [
      "---------------------------------\n",
      "| batch_size        | 32        |\n",
      "| bc/               |           |\n",
      "|    batch          | 1500      |\n",
      "|    ent_loss       | -0.000879 |\n",
      "|    entropy        | 0.879     |\n",
      "|    epoch          | 750       |\n",
      "|    l2_loss        | 0         |\n",
      "|    l2_norm        | 222       |\n",
      "|    loss           | 0.857     |\n",
      "|    neglogp        | 0.858     |\n",
      "|    prob_true_act  | 0.584     |\n",
      "|    samples_so_far | 48032     |\n",
      "---------------------------------\n"
     ]
    },
    {
     "name": "stderr",
     "output_type": "stream",
     "text": [
      "1972batch [00:05, 416.42batch/s]"
     ]
    },
    {
     "name": "stdout",
     "output_type": "stream",
     "text": [
      "--------------------------------\n",
      "| batch_size        | 32       |\n",
      "| bc/               |          |\n",
      "|    batch          | 2000     |\n",
      "|    ent_loss       | -0.00065 |\n",
      "|    entropy        | 0.65     |\n",
      "|    epoch          | 1000     |\n",
      "|    l2_loss        | 0        |\n",
      "|    l2_norm        | 261      |\n",
      "|    loss           | 0.366    |\n",
      "|    neglogp        | 0.367    |\n",
      "|    prob_true_act  | 0.753    |\n",
      "|    samples_so_far | 64032    |\n",
      "--------------------------------\n"
     ]
    },
    {
     "name": "stderr",
     "output_type": "stream",
     "text": [
      "2471batch [00:07, 438.98batch/s]"
     ]
    },
    {
     "name": "stdout",
     "output_type": "stream",
     "text": [
      "---------------------------------\n",
      "| batch_size        | 32        |\n",
      "| bc/               |           |\n",
      "|    batch          | 2500      |\n",
      "|    ent_loss       | -0.000615 |\n",
      "|    entropy        | 0.615     |\n",
      "|    epoch          | 1250      |\n",
      "|    l2_loss        | 0         |\n",
      "|    l2_norm        | 305       |\n",
      "|    loss           | 0.347     |\n",
      "|    neglogp        | 0.347     |\n",
      "|    prob_true_act  | 0.769     |\n",
      "|    samples_so_far | 80032     |\n",
      "---------------------------------\n"
     ]
    },
    {
     "name": "stderr",
     "output_type": "stream",
     "text": [
      "3000batch [00:08, 411.41batch/s]"
     ]
    },
    {
     "name": "stdout",
     "output_type": "stream",
     "text": [
      "---------------------------------\n",
      "| batch_size        | 32        |\n",
      "| bc/               |           |\n",
      "|    batch          | 3000      |\n",
      "|    ent_loss       | -0.000591 |\n",
      "|    entropy        | 0.591     |\n",
      "|    epoch          | 1500      |\n",
      "|    l2_loss        | 0         |\n",
      "|    l2_norm        | 352       |\n",
      "|    loss           | 0.374     |\n",
      "|    neglogp        | 0.375     |\n",
      "|    prob_true_act  | 0.76      |\n",
      "|    samples_so_far | 96032     |\n",
      "---------------------------------\n"
     ]
    },
    {
     "name": "stderr",
     "output_type": "stream",
     "text": [
      "3480batch [00:09, 403.90batch/s]"
     ]
    },
    {
     "name": "stdout",
     "output_type": "stream",
     "text": [
      "---------------------------------\n",
      "| batch_size        | 32        |\n",
      "| bc/               |           |\n",
      "|    batch          | 3500      |\n",
      "|    ent_loss       | -0.000692 |\n",
      "|    entropy        | 0.692     |\n",
      "|    epoch          | 1750      |\n",
      "|    l2_loss        | 0         |\n",
      "|    l2_norm        | 403       |\n",
      "|    loss           | 0.51      |\n",
      "|    neglogp        | 0.511     |\n",
      "|    prob_true_act  | 0.688     |\n",
      "|    samples_so_far | 112032    |\n",
      "---------------------------------\n"
     ]
    },
    {
     "name": "stderr",
     "output_type": "stream",
     "text": [
      "3965batch [00:10, 407.94batch/s]"
     ]
    },
    {
     "name": "stdout",
     "output_type": "stream",
     "text": [
      "---------------------------------\n",
      "| batch_size        | 32        |\n",
      "| bc/               |           |\n",
      "|    batch          | 4000      |\n",
      "|    ent_loss       | -0.000464 |\n",
      "|    entropy        | 0.464     |\n",
      "|    epoch          | 2000      |\n",
      "|    l2_loss        | 0         |\n",
      "|    l2_norm        | 452       |\n",
      "|    loss           | 0.361     |\n",
      "|    neglogp        | 0.362     |\n",
      "|    prob_true_act  | 0.79      |\n",
      "|    samples_so_far | 128032    |\n",
      "---------------------------------\n"
     ]
    },
    {
     "name": "stderr",
     "output_type": "stream",
     "text": [
      "4470batch [00:11, 425.77batch/s]"
     ]
    },
    {
     "name": "stdout",
     "output_type": "stream",
     "text": [
      "---------------------------------\n",
      "| batch_size        | 32        |\n",
      "| bc/               |           |\n",
      "|    batch          | 4500      |\n",
      "|    ent_loss       | -0.000487 |\n",
      "|    entropy        | 0.487     |\n",
      "|    epoch          | 2250      |\n",
      "|    l2_loss        | 0         |\n",
      "|    l2_norm        | 497       |\n",
      "|    loss           | 0.334     |\n",
      "|    neglogp        | 0.335     |\n",
      "|    prob_true_act  | 0.786     |\n",
      "|    samples_so_far | 144032    |\n",
      "---------------------------------\n"
     ]
    },
    {
     "name": "stderr",
     "output_type": "stream",
     "text": [
      "4958batch [00:13, 416.48batch/s]"
     ]
    },
    {
     "name": "stdout",
     "output_type": "stream",
     "text": [
      "---------------------------------\n",
      "| batch_size        | 32        |\n",
      "| bc/               |           |\n",
      "|    batch          | 5000      |\n",
      "|    ent_loss       | -0.000397 |\n",
      "|    entropy        | 0.397     |\n",
      "|    epoch          | 2500      |\n",
      "|    l2_loss        | 0         |\n",
      "|    l2_norm        | 540       |\n",
      "|    loss           | 0.352     |\n",
      "|    neglogp        | 0.352     |\n",
      "|    prob_true_act  | 0.8       |\n",
      "|    samples_so_far | 160032    |\n",
      "---------------------------------\n"
     ]
    },
    {
     "name": "stderr",
     "output_type": "stream",
     "text": [
      "5496batch [00:14, 418.08batch/s]"
     ]
    },
    {
     "name": "stdout",
     "output_type": "stream",
     "text": [
      "---------------------------------\n",
      "| batch_size        | 32        |\n",
      "| bc/               |           |\n",
      "|    batch          | 5500      |\n",
      "|    ent_loss       | -0.000463 |\n",
      "|    entropy        | 0.463     |\n",
      "|    epoch          | 2750      |\n",
      "|    l2_loss        | 0         |\n",
      "|    l2_norm        | 582       |\n",
      "|    loss           | 0.351     |\n",
      "|    neglogp        | 0.351     |\n",
      "|    prob_true_act  | 0.785     |\n",
      "|    samples_so_far | 176032    |\n",
      "---------------------------------\n"
     ]
    },
    {
     "name": "stderr",
     "output_type": "stream",
     "text": [
      "5987batch [00:15, 422.22batch/s]"
     ]
    },
    {
     "name": "stdout",
     "output_type": "stream",
     "text": [
      "---------------------------------\n",
      "| batch_size        | 32        |\n",
      "| bc/               |           |\n",
      "|    batch          | 6000      |\n",
      "|    ent_loss       | -0.000403 |\n",
      "|    entropy        | 0.403     |\n",
      "|    epoch          | 3000      |\n",
      "|    l2_loss        | 0         |\n",
      "|    l2_norm        | 622       |\n",
      "|    loss           | 0.308     |\n",
      "|    neglogp        | 0.308     |\n",
      "|    prob_true_act  | 0.804     |\n",
      "|    samples_so_far | 192032    |\n",
      "---------------------------------\n"
     ]
    },
    {
     "name": "stderr",
     "output_type": "stream",
     "text": [
      "6463batch [00:16, 402.11batch/s]"
     ]
    },
    {
     "name": "stdout",
     "output_type": "stream",
     "text": [
      "---------------------------------\n",
      "| batch_size        | 32        |\n",
      "| bc/               |           |\n",
      "|    batch          | 6500      |\n",
      "|    ent_loss       | -0.000378 |\n",
      "|    entropy        | 0.378     |\n",
      "|    epoch          | 3250      |\n",
      "|    l2_loss        | 0         |\n",
      "|    l2_norm        | 662       |\n",
      "|    loss           | 0.302     |\n",
      "|    neglogp        | 0.302     |\n",
      "|    prob_true_act  | 0.809     |\n",
      "|    samples_so_far | 208032    |\n",
      "---------------------------------\n"
     ]
    },
    {
     "name": "stderr",
     "output_type": "stream",
     "text": [
      "6999batch [00:17, 432.05batch/s]"
     ]
    },
    {
     "name": "stdout",
     "output_type": "stream",
     "text": [
      "---------------------------------\n",
      "| batch_size        | 32        |\n",
      "| bc/               |           |\n",
      "|    batch          | 7000      |\n",
      "|    ent_loss       | -0.000335 |\n",
      "|    entropy        | 0.335     |\n",
      "|    epoch          | 3500      |\n",
      "|    l2_loss        | 0         |\n",
      "|    l2_norm        | 702       |\n",
      "|    loss           | 0.198     |\n",
      "|    neglogp        | 0.198     |\n",
      "|    prob_true_act  | 0.864     |\n",
      "|    samples_so_far | 224032    |\n",
      "---------------------------------\n"
     ]
    },
    {
     "name": "stderr",
     "output_type": "stream",
     "text": [
      "7489batch [00:19, 423.25batch/s]"
     ]
    },
    {
     "name": "stdout",
     "output_type": "stream",
     "text": [
      "---------------------------------\n",
      "| batch_size        | 32        |\n",
      "| bc/               |           |\n",
      "|    batch          | 7500      |\n",
      "|    ent_loss       | -0.000386 |\n",
      "|    entropy        | 0.386     |\n",
      "|    epoch          | 3750      |\n",
      "|    l2_loss        | 0         |\n",
      "|    l2_norm        | 743       |\n",
      "|    loss           | 0.238     |\n",
      "|    neglogp        | 0.239     |\n",
      "|    prob_true_act  | 0.826     |\n",
      "|    samples_so_far | 240032    |\n",
      "---------------------------------\n"
     ]
    },
    {
     "name": "stderr",
     "output_type": "stream",
     "text": [
      "7987batch [00:20, 427.61batch/s]"
     ]
    },
    {
     "name": "stdout",
     "output_type": "stream",
     "text": [
      "---------------------------------\n",
      "| batch_size        | 32        |\n",
      "| bc/               |           |\n",
      "|    batch          | 8000      |\n",
      "|    ent_loss       | -0.000298 |\n",
      "|    entropy        | 0.298     |\n",
      "|    epoch          | 4000      |\n",
      "|    l2_loss        | 0         |\n",
      "|    l2_norm        | 784       |\n",
      "|    loss           | 0.178     |\n",
      "|    neglogp        | 0.178     |\n",
      "|    prob_true_act  | 0.873     |\n",
      "|    samples_so_far | 256032    |\n",
      "---------------------------------\n"
     ]
    },
    {
     "name": "stderr",
     "output_type": "stream",
     "text": [
      "8471batch [00:21, 397.10batch/s]"
     ]
    },
    {
     "name": "stdout",
     "output_type": "stream",
     "text": [
      "---------------------------------\n",
      "| batch_size        | 32        |\n",
      "| bc/               |           |\n",
      "|    batch          | 8500      |\n",
      "|    ent_loss       | -0.000299 |\n",
      "|    entropy        | 0.299     |\n",
      "|    epoch          | 4250      |\n",
      "|    l2_loss        | 0         |\n",
      "|    l2_norm        | 825       |\n",
      "|    loss           | 0.241     |\n",
      "|    neglogp        | 0.242     |\n",
      "|    prob_true_act  | 0.846     |\n",
      "|    samples_so_far | 272032    |\n",
      "---------------------------------\n"
     ]
    },
    {
     "name": "stderr",
     "output_type": "stream",
     "text": [
      "8998batch [00:22, 364.27batch/s]"
     ]
    },
    {
     "name": "stdout",
     "output_type": "stream",
     "text": [
      "---------------------------------\n",
      "| batch_size        | 32        |\n",
      "| bc/               |           |\n",
      "|    batch          | 9000      |\n",
      "|    ent_loss       | -0.000368 |\n",
      "|    entropy        | 0.368     |\n",
      "|    epoch          | 4500      |\n",
      "|    l2_loss        | 0         |\n",
      "|    l2_norm        | 867       |\n",
      "|    loss           | 0.264     |\n",
      "|    neglogp        | 0.265     |\n",
      "|    prob_true_act  | 0.82      |\n",
      "|    samples_so_far | 288032    |\n",
      "---------------------------------\n"
     ]
    },
    {
     "name": "stderr",
     "output_type": "stream",
     "text": [
      "9479batch [00:23, 411.96batch/s]"
     ]
    },
    {
     "name": "stdout",
     "output_type": "stream",
     "text": [
      "---------------------------------\n",
      "| batch_size        | 32        |\n",
      "| bc/               |           |\n",
      "|    batch          | 9500      |\n",
      "|    ent_loss       | -0.000401 |\n",
      "|    entropy        | 0.401     |\n",
      "|    epoch          | 4750      |\n",
      "|    l2_loss        | 0         |\n",
      "|    l2_norm        | 910       |\n",
      "|    loss           | 0.309     |\n",
      "|    neglogp        | 0.309     |\n",
      "|    prob_true_act  | 0.793     |\n",
      "|    samples_so_far | 304032    |\n",
      "---------------------------------\n"
     ]
    },
    {
     "name": "stderr",
     "output_type": "stream",
     "text": [
      "9974batch [00:25, 409.00batch/s]"
     ]
    },
    {
     "name": "stdout",
     "output_type": "stream",
     "text": [
      "---------------------------------\n",
      "| batch_size        | 32        |\n",
      "| bc/               |           |\n",
      "|    batch          | 10000     |\n",
      "|    ent_loss       | -0.000227 |\n",
      "|    entropy        | 0.227     |\n",
      "|    epoch          | 5000      |\n",
      "|    l2_loss        | 0         |\n",
      "|    l2_norm        | 953       |\n",
      "|    loss           | 0.146     |\n",
      "|    neglogp        | 0.147     |\n",
      "|    prob_true_act  | 0.896     |\n",
      "|    samples_so_far | 320032    |\n",
      "---------------------------------\n"
     ]
    },
    {
     "name": "stderr",
     "output_type": "stream",
     "text": [
      "10497batch [00:26, 425.76batch/s]"
     ]
    },
    {
     "name": "stdout",
     "output_type": "stream",
     "text": [
      "---------------------------------\n",
      "| batch_size        | 32        |\n",
      "| bc/               |           |\n",
      "|    batch          | 10500     |\n",
      "|    ent_loss       | -0.000245 |\n",
      "|    entropy        | 0.245     |\n",
      "|    epoch          | 5250      |\n",
      "|    l2_loss        | 0         |\n",
      "|    l2_norm        | 997       |\n",
      "|    loss           | 0.169     |\n",
      "|    neglogp        | 0.169     |\n",
      "|    prob_true_act  | 0.882     |\n",
      "|    samples_so_far | 336032    |\n",
      "---------------------------------\n"
     ]
    },
    {
     "name": "stderr",
     "output_type": "stream",
     "text": [
      "10994batch [00:27, 419.73batch/s]"
     ]
    },
    {
     "name": "stdout",
     "output_type": "stream",
     "text": [
      "---------------------------------\n",
      "| batch_size        | 32        |\n",
      "| bc/               |           |\n",
      "|    batch          | 11000     |\n",
      "|    ent_loss       | -0.000273 |\n",
      "|    entropy        | 0.273     |\n",
      "|    epoch          | 5500      |\n",
      "|    l2_loss        | 0         |\n",
      "|    l2_norm        | 1.04e+03  |\n",
      "|    loss           | 0.157     |\n",
      "|    neglogp        | 0.157     |\n",
      "|    prob_true_act  | 0.882     |\n",
      "|    samples_so_far | 352032    |\n",
      "---------------------------------\n"
     ]
    },
    {
     "name": "stderr",
     "output_type": "stream",
     "text": [
      "11482batch [00:28, 379.42batch/s]"
     ]
    },
    {
     "name": "stdout",
     "output_type": "stream",
     "text": [
      "---------------------------------\n",
      "| batch_size        | 32        |\n",
      "| bc/               |           |\n",
      "|    batch          | 11500     |\n",
      "|    ent_loss       | -0.000252 |\n",
      "|    entropy        | 0.252     |\n",
      "|    epoch          | 5750      |\n",
      "|    l2_loss        | 0         |\n",
      "|    l2_norm        | 1.09e+03  |\n",
      "|    loss           | 0.192     |\n",
      "|    neglogp        | 0.192     |\n",
      "|    prob_true_act  | 0.877     |\n",
      "|    samples_so_far | 368032    |\n",
      "---------------------------------\n"
     ]
    },
    {
     "name": "stderr",
     "output_type": "stream",
     "text": [
      "11977batch [00:30, 405.38batch/s]"
     ]
    },
    {
     "name": "stdout",
     "output_type": "stream",
     "text": [
      "---------------------------------\n",
      "| batch_size        | 32        |\n",
      "| bc/               |           |\n",
      "|    batch          | 12000     |\n",
      "|    ent_loss       | -0.000217 |\n",
      "|    entropy        | 0.217     |\n",
      "|    epoch          | 6000      |\n",
      "|    l2_loss        | 0         |\n",
      "|    l2_norm        | 1.13e+03  |\n",
      "|    loss           | 0.116     |\n",
      "|    neglogp        | 0.116     |\n",
      "|    prob_true_act  | 0.908     |\n",
      "|    samples_so_far | 384032    |\n",
      "---------------------------------\n"
     ]
    },
    {
     "name": "stderr",
     "output_type": "stream",
     "text": [
      "12474batch [00:31, 405.07batch/s]"
     ]
    },
    {
     "name": "stdout",
     "output_type": "stream",
     "text": [
      "---------------------------------\n",
      "| batch_size        | 32        |\n",
      "| bc/               |           |\n",
      "|    batch          | 12500     |\n",
      "|    ent_loss       | -0.000256 |\n",
      "|    entropy        | 0.256     |\n",
      "|    epoch          | 6250      |\n",
      "|    l2_loss        | 0         |\n",
      "|    l2_norm        | 1.18e+03  |\n",
      "|    loss           | 0.138     |\n",
      "|    neglogp        | 0.138     |\n",
      "|    prob_true_act  | 0.89      |\n",
      "|    samples_so_far | 400032    |\n",
      "---------------------------------\n"
     ]
    },
    {
     "name": "stderr",
     "output_type": "stream",
     "text": [
      "12999batch [00:32, 431.00batch/s]"
     ]
    },
    {
     "name": "stdout",
     "output_type": "stream",
     "text": [
      "---------------------------------\n",
      "| batch_size        | 32        |\n",
      "| bc/               |           |\n",
      "|    batch          | 13000     |\n",
      "|    ent_loss       | -0.000228 |\n",
      "|    entropy        | 0.228     |\n",
      "|    epoch          | 6500      |\n",
      "|    l2_loss        | 0         |\n",
      "|    l2_norm        | 1.23e+03  |\n",
      "|    loss           | 0.165     |\n",
      "|    neglogp        | 0.165     |\n",
      "|    prob_true_act  | 0.884     |\n",
      "|    samples_so_far | 416032    |\n",
      "---------------------------------\n"
     ]
    },
    {
     "name": "stderr",
     "output_type": "stream",
     "text": [
      "13487batch [00:33, 413.47batch/s]"
     ]
    },
    {
     "name": "stdout",
     "output_type": "stream",
     "text": [
      "---------------------------------\n",
      "| batch_size        | 32        |\n",
      "| bc/               |           |\n",
      "|    batch          | 13500     |\n",
      "|    ent_loss       | -0.000171 |\n",
      "|    entropy        | 0.171     |\n",
      "|    epoch          | 6750      |\n",
      "|    l2_loss        | 0         |\n",
      "|    l2_norm        | 1.27e+03  |\n",
      "|    loss           | 0.0916    |\n",
      "|    neglogp        | 0.0918    |\n",
      "|    prob_true_act  | 0.929     |\n",
      "|    samples_so_far | 432032    |\n",
      "---------------------------------\n"
     ]
    },
    {
     "name": "stderr",
     "output_type": "stream",
     "text": [
      "13982batch [00:34, 412.87batch/s]"
     ]
    },
    {
     "name": "stdout",
     "output_type": "stream",
     "text": [
      "---------------------------------\n",
      "| batch_size        | 32        |\n",
      "| bc/               |           |\n",
      "|    batch          | 14000     |\n",
      "|    ent_loss       | -0.000149 |\n",
      "|    entropy        | 0.149     |\n",
      "|    epoch          | 7000      |\n",
      "|    l2_loss        | 0         |\n",
      "|    l2_norm        | 1.32e+03  |\n",
      "|    loss           | 0.0704    |\n",
      "|    neglogp        | 0.0705    |\n",
      "|    prob_true_act  | 0.944     |\n",
      "|    samples_so_far | 448032    |\n",
      "---------------------------------\n"
     ]
    },
    {
     "name": "stderr",
     "output_type": "stream",
     "text": [
      "14492batch [00:36, 405.52batch/s]"
     ]
    },
    {
     "name": "stdout",
     "output_type": "stream",
     "text": [
      "---------------------------------\n",
      "| batch_size        | 32        |\n",
      "| bc/               |           |\n",
      "|    batch          | 14500     |\n",
      "|    ent_loss       | -0.000164 |\n",
      "|    entropy        | 0.164     |\n",
      "|    epoch          | 7250      |\n",
      "|    l2_loss        | 0         |\n",
      "|    l2_norm        | 1.37e+03  |\n",
      "|    loss           | 0.0849    |\n",
      "|    neglogp        | 0.0851    |\n",
      "|    prob_true_act  | 0.933     |\n",
      "|    samples_so_far | 464032    |\n",
      "---------------------------------\n"
     ]
    },
    {
     "name": "stderr",
     "output_type": "stream",
     "text": [
      "14971batch [00:37, 431.60batch/s]"
     ]
    },
    {
     "name": "stdout",
     "output_type": "stream",
     "text": [
      "---------------------------------\n",
      "| batch_size        | 32        |\n",
      "| bc/               |           |\n",
      "|    batch          | 15000     |\n",
      "|    ent_loss       | -0.000169 |\n",
      "|    entropy        | 0.169     |\n",
      "|    epoch          | 7500      |\n",
      "|    l2_loss        | 0         |\n",
      "|    l2_norm        | 1.42e+03  |\n",
      "|    loss           | 0.0885    |\n",
      "|    neglogp        | 0.0887    |\n",
      "|    prob_true_act  | 0.928     |\n",
      "|    samples_so_far | 480032    |\n",
      "---------------------------------\n"
     ]
    },
    {
     "name": "stderr",
     "output_type": "stream",
     "text": [
      "15464batch [00:38, 432.87batch/s]"
     ]
    },
    {
     "name": "stdout",
     "output_type": "stream",
     "text": [
      "---------------------------------\n",
      "| batch_size        | 32        |\n",
      "| bc/               |           |\n",
      "|    batch          | 15500     |\n",
      "|    ent_loss       | -0.000215 |\n",
      "|    entropy        | 0.215     |\n",
      "|    epoch          | 7750      |\n",
      "|    l2_loss        | 0         |\n",
      "|    l2_norm        | 1.47e+03  |\n",
      "|    loss           | 0.135     |\n",
      "|    neglogp        | 0.135     |\n",
      "|    prob_true_act  | 0.896     |\n",
      "|    samples_so_far | 496032    |\n",
      "---------------------------------\n"
     ]
    },
    {
     "name": "stderr",
     "output_type": "stream",
     "text": [
      "15969batch [00:39, 451.96batch/s]"
     ]
    },
    {
     "name": "stdout",
     "output_type": "stream",
     "text": [
      "---------------------------------\n",
      "| batch_size        | 32        |\n",
      "| bc/               |           |\n",
      "|    batch          | 16000     |\n",
      "|    ent_loss       | -0.000167 |\n",
      "|    entropy        | 0.167     |\n",
      "|    epoch          | 8000      |\n",
      "|    l2_loss        | 0         |\n",
      "|    l2_norm        | 1.52e+03  |\n",
      "|    loss           | 0.0945    |\n",
      "|    neglogp        | 0.0947    |\n",
      "|    prob_true_act  | 0.926     |\n",
      "|    samples_so_far | 512032    |\n",
      "---------------------------------\n"
     ]
    },
    {
     "name": "stderr",
     "output_type": "stream",
     "text": [
      "16473batch [00:40, 415.07batch/s]"
     ]
    },
    {
     "name": "stdout",
     "output_type": "stream",
     "text": [
      "---------------------------------\n",
      "| batch_size        | 32        |\n",
      "| bc/               |           |\n",
      "|    batch          | 16500     |\n",
      "|    ent_loss       | -0.000162 |\n",
      "|    entropy        | 0.162     |\n",
      "|    epoch          | 8250      |\n",
      "|    l2_loss        | 0         |\n",
      "|    l2_norm        | 1.57e+03  |\n",
      "|    loss           | 0.0603    |\n",
      "|    neglogp        | 0.0604    |\n",
      "|    prob_true_act  | 0.946     |\n",
      "|    samples_so_far | 528032    |\n",
      "---------------------------------\n"
     ]
    },
    {
     "name": "stderr",
     "output_type": "stream",
     "text": [
      "16966batch [00:42, 425.45batch/s]"
     ]
    },
    {
     "name": "stdout",
     "output_type": "stream",
     "text": [
      "---------------------------------\n",
      "| batch_size        | 32        |\n",
      "| bc/               |           |\n",
      "|    batch          | 17000     |\n",
      "|    ent_loss       | -0.000131 |\n",
      "|    entropy        | 0.131     |\n",
      "|    epoch          | 8500      |\n",
      "|    l2_loss        | 0         |\n",
      "|    l2_norm        | 1.62e+03  |\n",
      "|    loss           | 0.0725    |\n",
      "|    neglogp        | 0.0726    |\n",
      "|    prob_true_act  | 0.944     |\n",
      "|    samples_so_far | 544032    |\n",
      "---------------------------------\n"
     ]
    },
    {
     "name": "stderr",
     "output_type": "stream",
     "text": [
      "17485batch [00:43, 409.13batch/s]"
     ]
    },
    {
     "name": "stdout",
     "output_type": "stream",
     "text": [
      "---------------------------------\n",
      "| batch_size        | 32        |\n",
      "| bc/               |           |\n",
      "|    batch          | 17500     |\n",
      "|    ent_loss       | -0.000188 |\n",
      "|    entropy        | 0.188     |\n",
      "|    epoch          | 8750      |\n",
      "|    l2_loss        | 0         |\n",
      "|    l2_norm        | 1.67e+03  |\n",
      "|    loss           | 0.0884    |\n",
      "|    neglogp        | 0.0886    |\n",
      "|    prob_true_act  | 0.925     |\n",
      "|    samples_so_far | 560032    |\n",
      "---------------------------------\n"
     ]
    },
    {
     "name": "stderr",
     "output_type": "stream",
     "text": [
      "17975batch [00:44, 428.90batch/s]"
     ]
    },
    {
     "name": "stdout",
     "output_type": "stream",
     "text": [
      "---------------------------------\n",
      "| batch_size        | 32        |\n",
      "| bc/               |           |\n",
      "|    batch          | 18000     |\n",
      "|    ent_loss       | -0.000133 |\n",
      "|    entropy        | 0.133     |\n",
      "|    epoch          | 9000      |\n",
      "|    l2_loss        | 0         |\n",
      "|    l2_norm        | 1.72e+03  |\n",
      "|    loss           | 0.0594    |\n",
      "|    neglogp        | 0.0595    |\n",
      "|    prob_true_act  | 0.949     |\n",
      "|    samples_so_far | 576032    |\n",
      "---------------------------------\n"
     ]
    },
    {
     "name": "stderr",
     "output_type": "stream",
     "text": [
      "18469batch [00:45, 418.36batch/s]"
     ]
    },
    {
     "name": "stdout",
     "output_type": "stream",
     "text": [
      "---------------------------------\n",
      "| batch_size        | 32        |\n",
      "| bc/               |           |\n",
      "|    batch          | 18500     |\n",
      "|    ent_loss       | -0.000116 |\n",
      "|    entropy        | 0.116     |\n",
      "|    epoch          | 9250      |\n",
      "|    l2_loss        | 0         |\n",
      "|    l2_norm        | 1.77e+03  |\n",
      "|    loss           | 0.0568    |\n",
      "|    neglogp        | 0.0569    |\n",
      "|    prob_true_act  | 0.953     |\n",
      "|    samples_so_far | 592032    |\n",
      "---------------------------------\n"
     ]
    },
    {
     "name": "stderr",
     "output_type": "stream",
     "text": [
      "18961batch [00:46, 387.60batch/s]"
     ]
    },
    {
     "name": "stdout",
     "output_type": "stream",
     "text": [
      "---------------------------------\n",
      "| batch_size        | 32        |\n",
      "| bc/               |           |\n",
      "|    batch          | 19000     |\n",
      "|    ent_loss       | -0.000113 |\n",
      "|    entropy        | 0.113     |\n",
      "|    epoch          | 9500      |\n",
      "|    l2_loss        | 0         |\n",
      "|    l2_norm        | 1.83e+03  |\n",
      "|    loss           | 0.0371    |\n",
      "|    neglogp        | 0.0372    |\n",
      "|    prob_true_act  | 0.966     |\n",
      "|    samples_so_far | 608032    |\n",
      "---------------------------------\n"
     ]
    },
    {
     "name": "stderr",
     "output_type": "stream",
     "text": [
      "19500batch [00:48, 418.86batch/s]"
     ]
    },
    {
     "name": "stdout",
     "output_type": "stream",
     "text": [
      "---------------------------------\n",
      "| batch_size        | 32        |\n",
      "| bc/               |           |\n",
      "|    batch          | 19500     |\n",
      "|    ent_loss       | -0.000124 |\n",
      "|    entropy        | 0.124     |\n",
      "|    epoch          | 9750      |\n",
      "|    l2_loss        | 0         |\n",
      "|    l2_norm        | 1.89e+03  |\n",
      "|    loss           | 0.0581    |\n",
      "|    neglogp        | 0.0583    |\n",
      "|    prob_true_act  | 0.951     |\n",
      "|    samples_so_far | 624032    |\n",
      "---------------------------------\n"
     ]
    },
    {
     "name": "stderr",
     "output_type": "stream",
     "text": [
      "20000batch [00:49, 403.63batch/s]\n"
     ]
    }
   ],
   "source": [
    "from imitation.algorithms import bc\n",
    "import sys\n",
    "sys.path.append('/home/bioinlab/Documents/real-OMX-bioin-tacto-grasp-and-lift/src/RL_grasp_and_lift/scripts')\n",
    "from robotEnv import RobotEnv\n",
    "rng = np.random.default_rng()\n",
    "env = RobotEnv()\n",
    "\n",
    "bc_trainer = bc.BC(\n",
    "    observation_space=env.observation_space,\n",
    "    action_space=env.action_space,\n",
    "    demonstrations=transitions,\n",
    "    rng=rng,\n",
    ")\n",
    "bc_trainer.train(n_epochs=10000)"
   ]
  },
  {
   "cell_type": "code",
   "execution_count": null,
   "metadata": {},
   "outputs": [],
   "source": [
    "print(\n",
    "    f\"\"\"The `rollout` function generated a list of {len(expert_trajectories)} {type(expert_trajectories[0])}.\n",
    "After flattening, this list is turned into a {type(transitions)} object containing {len(transitions)} transitions.\n",
    "The transitions object contains arrays for: {', '.join(transitions.__dict__.keys())}.\"\n",
    "\"\"\"\n",
    ")"
   ]
  },
  {
   "cell_type": "code",
   "execution_count": 9,
   "metadata": {},
   "outputs": [
    {
     "name": "stdout",
     "output_type": "stream",
     "text": [
      "500.0\n",
      "Reward before training: 8.2\n"
     ]
    }
   ],
   "source": [
    "import numpy as np\n",
    "import gymnasium as gym\n",
    "from imitation.policies.serialize import load_policy\n",
    "from imitation.util.util import make_vec_env\n",
    "from imitation.data.wrappers import RolloutInfoWrapper\n",
    "\n",
    "env = make_vec_env(\n",
    "    \"seals:seals/CartPole-v0\",\n",
    "    rng=np.random.default_rng(),\n",
    "    post_wrappers=[\n",
    "        lambda env, _: RolloutInfoWrapper(env)\n",
    "    ],  # needed for computing rollouts later\n",
    ")\n",
    "expert = load_policy(\n",
    "    \"ppo-huggingface\",\n",
    "    organization=\"HumanCompatibleAI\",\n",
    "    env_name=\"seals/CartPole-v0\",\n",
    "    venv=env,\n",
    ")\n",
    "\n",
    "\n",
    "from stable_baselines3.common.evaluation import evaluate_policy\n",
    "\n",
    "reward, _ = evaluate_policy(expert, env, 10)\n",
    "print(reward)\n",
    "from imitation.data import rollout\n",
    "\n",
    "rng = np.random.default_rng()\n",
    "rollouts = rollout.rollout(\n",
    "    expert,\n",
    "    env,\n",
    "    rollout.make_sample_until(min_timesteps=None, min_episodes=50),\n",
    "    rng=rng,\n",
    ")\n",
    "transitions = rollout.flatten_trajectories(rollouts)\n",
    "\n",
    "from imitation.algorithms import bc\n",
    "\n",
    "bc_trainer = bc.BC(\n",
    "    observation_space=env.observation_space,\n",
    "    action_space=env.action_space,\n",
    "    demonstrations=transitions,\n",
    "    rng=rng,\n",
    ")\n",
    "reward_before_training, _ = evaluate_policy(bc_trainer.policy, env, 10)\n",
    "print(f\"Reward before training: {reward_before_training}\")"
   ]
  },
  {
   "cell_type": "code",
   "execution_count": 20,
   "metadata": {},
   "outputs": [
    {
     "data": {
      "text/plain": [
       "FeedForward32Policy(\n",
       "  (features_extractor): CombinedExtractor(\n",
       "    (extractors): ModuleDict(\n",
       "      (ee_orientation): Flatten(start_dim=1, end_dim=-1)\n",
       "      (ee_position): Flatten(start_dim=1, end_dim=-1)\n",
       "      (orientation_left): Flatten(start_dim=1, end_dim=-1)\n",
       "      (orientation_right): Flatten(start_dim=1, end_dim=-1)\n",
       "      (pressure_left): Flatten(start_dim=1, end_dim=-1)\n",
       "      (pressure_right): Flatten(start_dim=1, end_dim=-1)\n",
       "    )\n",
       "  )\n",
       "  (pi_features_extractor): CombinedExtractor(\n",
       "    (extractors): ModuleDict(\n",
       "      (ee_orientation): Flatten(start_dim=1, end_dim=-1)\n",
       "      (ee_position): Flatten(start_dim=1, end_dim=-1)\n",
       "      (orientation_left): Flatten(start_dim=1, end_dim=-1)\n",
       "      (orientation_right): Flatten(start_dim=1, end_dim=-1)\n",
       "      (pressure_left): Flatten(start_dim=1, end_dim=-1)\n",
       "      (pressure_right): Flatten(start_dim=1, end_dim=-1)\n",
       "    )\n",
       "  )\n",
       "  (vf_features_extractor): CombinedExtractor(\n",
       "    (extractors): ModuleDict(\n",
       "      (ee_orientation): Flatten(start_dim=1, end_dim=-1)\n",
       "      (ee_position): Flatten(start_dim=1, end_dim=-1)\n",
       "      (orientation_left): Flatten(start_dim=1, end_dim=-1)\n",
       "      (orientation_right): Flatten(start_dim=1, end_dim=-1)\n",
       "      (pressure_left): Flatten(start_dim=1, end_dim=-1)\n",
       "      (pressure_right): Flatten(start_dim=1, end_dim=-1)\n",
       "    )\n",
       "  )\n",
       "  (mlp_extractor): MlpExtractor(\n",
       "    (policy_net): Sequential(\n",
       "      (0): Linear(in_features=17, out_features=32, bias=True)\n",
       "      (1): Tanh()\n",
       "      (2): Linear(in_features=32, out_features=32, bias=True)\n",
       "      (3): Tanh()\n",
       "    )\n",
       "    (value_net): Sequential(\n",
       "      (0): Linear(in_features=17, out_features=32, bias=True)\n",
       "      (1): Tanh()\n",
       "      (2): Linear(in_features=32, out_features=32, bias=True)\n",
       "      (3): Tanh()\n",
       "    )\n",
       "  )\n",
       "  (action_net): Linear(in_features=32, out_features=10, bias=True)\n",
       "  (value_net): Linear(in_features=32, out_features=1, bias=True)\n",
       ")"
      ]
     },
     "execution_count": 20,
     "metadata": {},
     "output_type": "execute_result"
    }
   ],
   "source": [
    "bc_trainer.policy"
   ]
  },
  {
   "cell_type": "code",
   "execution_count": null,
   "metadata": {},
   "outputs": [],
   "source": [
    "from stable_baselines3.ppo import MutationPolicy"
   ]
  }
 ],
 "metadata": {
  "kernelspec": {
   "display_name": "Python 3",
   "language": "python",
   "name": "python3"
  },
  "language_info": {
   "codemirror_mode": {
    "name": "ipython",
    "version": 3
   },
   "file_extension": ".py",
   "mimetype": "text/x-python",
   "name": "python",
   "nbconvert_exporter": "python",
   "pygments_lexer": "ipython3",
   "version": "3.8.10"
  }
 },
 "nbformat": 4,
 "nbformat_minor": 2
}
